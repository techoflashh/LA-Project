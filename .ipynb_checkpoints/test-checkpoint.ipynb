{
 "cells": [
  {
   "cell_type": "code",
   "execution_count": 1,
   "metadata": {},
   "outputs": [
    {
     "name": "stdout",
     "output_type": "stream",
     "text": [
      "Degree Centrality:\n",
      "Node 0: 0.75\n",
      "Node 1: 0.5\n",
      "Node 2: 0.75\n",
      "Node 3: 0.25\n",
      "Node 4: 0.25\n"
     ]
    }
   ],
   "source": [
    "import numpy as np\n",
    "\n",
    "def compute_degree_centrality(adj_matrix):\n",
    "    num_nodes = adj_matrix.shape[0]\n",
    "    \n",
    "    # Compute row sums of the adjacency matrix\n",
    "    degree_centrality = np.sum(adj_matrix, axis=1)\n",
    "    \n",
    "    # Normalize degree centrality\n",
    "    normalization_factor = num_nodes - 1\n",
    "    \n",
    "    degree_centrality = degree_centrality.astype(float) / normalization_factor  \n",
    "    # use of astype is to convert the datatype of the numpy object from int to float.\n",
    "    \n",
    "    # Print degree centrality values\n",
    "    print(\"Degree Centrality:\")\n",
    "    for node, centrality in enumerate(degree_centrality):\n",
    "        print(f\"Node {node}: {centrality}\")\n",
    "        \n",
    "# Example adjacency matrix\n",
    "adj_matrix = np.array([\n",
    "    [0, 1, 1, 1, 0],\n",
    "    [1, 0, 1, 0, 0],\n",
    "    [1, 1, 0, 0, 1],\n",
    "    [1, 0, 0, 0, 0],\n",
    "    [0, 0, 1, 0, 0]\n",
    "])\n",
    "\n",
    "compute_degree_centrality(adj_matrix)\n"
   ]
  },
  {
   "cell_type": "code",
   "execution_count": 3,
   "metadata": {},
   "outputs": [
    {
     "ename": "KeyboardInterrupt",
     "evalue": "",
     "output_type": "error",
     "traceback": [
      "\u001b[1;31m---------------------------------------------------------------------------\u001b[0m",
      "\u001b[1;31mKeyboardInterrupt\u001b[0m                         Traceback (most recent call last)",
      "Cell \u001b[1;32mIn[3], line 23\u001b[0m\n\u001b[0;32m     21\u001b[0m degree_centrality \u001b[39m=\u001b[39m nx\u001b[39m.\u001b[39mdegree_centrality(G)\n\u001b[0;32m     22\u001b[0m betweenness_centrality \u001b[39m=\u001b[39m nx\u001b[39m.\u001b[39mbetweenness_centrality(G)\n\u001b[1;32m---> 23\u001b[0m closeness_centrality \u001b[39m=\u001b[39m nx\u001b[39m.\u001b[39;49mcloseness_centrality(G)\n\u001b[0;32m     24\u001b[0m eigenvector_centrality \u001b[39m=\u001b[39m nx\u001b[39m.\u001b[39meigenvector_centrality(G)\n\u001b[0;32m     26\u001b[0m \u001b[39m# Print centrality measures for a few nodes\u001b[39;00m\n",
      "File \u001b[1;32mc:\\Users\\Himanshu Yadav\\AppData\\Local\\Programs\\Python\\Python311\\Lib\\site-packages\\networkx\\algorithms\\centrality\\closeness.py:122\u001b[0m, in \u001b[0;36mcloseness_centrality\u001b[1;34m(G, u, distance, wf_improved)\u001b[0m\n\u001b[0;32m    120\u001b[0m closeness_dict \u001b[39m=\u001b[39m {}\n\u001b[0;32m    121\u001b[0m \u001b[39mfor\u001b[39;00m n \u001b[39min\u001b[39;00m nodes:\n\u001b[1;32m--> 122\u001b[0m     sp \u001b[39m=\u001b[39m path_length(G, n)\n\u001b[0;32m    123\u001b[0m     totsp \u001b[39m=\u001b[39m \u001b[39msum\u001b[39m(sp\u001b[39m.\u001b[39mvalues())\n\u001b[0;32m    124\u001b[0m     len_G \u001b[39m=\u001b[39m \u001b[39mlen\u001b[39m(G)\n",
      "File \u001b[1;32mc:\\Users\\Himanshu Yadav\\AppData\\Local\\Programs\\Python\\Python311\\Lib\\site-packages\\networkx\\algorithms\\shortest_paths\\unweighted.py:59\u001b[0m, in \u001b[0;36msingle_source_shortest_path_length\u001b[1;34m(G, source, cutoff)\u001b[0m\n\u001b[0;32m     57\u001b[0m     cutoff \u001b[39m=\u001b[39m \u001b[39mfloat\u001b[39m(\u001b[39m\"\u001b[39m\u001b[39minf\u001b[39m\u001b[39m\"\u001b[39m)\n\u001b[0;32m     58\u001b[0m nextlevel \u001b[39m=\u001b[39m {source: \u001b[39m1\u001b[39m}\n\u001b[1;32m---> 59\u001b[0m \u001b[39mreturn\u001b[39;00m \u001b[39mdict\u001b[39m(_single_shortest_path_length(G\u001b[39m.\u001b[39madj, nextlevel, cutoff))\n",
      "File \u001b[1;32mc:\\Users\\Himanshu Yadav\\AppData\\Local\\Programs\\Python\\Python311\\Lib\\site-packages\\networkx\\algorithms\\shortest_paths\\unweighted.py:91\u001b[0m, in \u001b[0;36m_single_shortest_path_length\u001b[1;34m(adj, firstlevel, cutoff)\u001b[0m\n\u001b[0;32m     89\u001b[0m         \u001b[39mreturn\u001b[39;00m\n\u001b[0;32m     90\u001b[0m     \u001b[39mfor\u001b[39;00m v \u001b[39min\u001b[39;00m found:\n\u001b[1;32m---> 91\u001b[0m         nextlevel\u001b[39m.\u001b[39;49mupdate(adj[v])\n\u001b[0;32m     92\u001b[0m     level \u001b[39m+\u001b[39m\u001b[39m=\u001b[39m \u001b[39m1\u001b[39m\n\u001b[0;32m     93\u001b[0m \u001b[39mdel\u001b[39;00m seen\n",
      "\u001b[1;31mKeyboardInterrupt\u001b[0m: "
     ]
    }
   ],
   "source": [
    "import networkx as nx\n",
    "import urllib.request\n",
    "import gzip\n",
    "\n",
    "# Fetch the Facebook Social Circles dataset\n",
    "url = \"https://snap.stanford.edu/data/facebook_combined.txt.gz\"\n",
    "file_path = \"facebook_combined.txt.gz\"\n",
    "urllib.request.urlretrieve(url, file_path)\n",
    "\n",
    "# Create an empty graph\n",
    "G = nx.Graph()\n",
    "\n",
    "# Read the dataset and add edges to the graph\n",
    "with gzip.open(file_path, 'rt') as file:\n",
    "    for line in file:\n",
    "        # Each line contains an edge represented by two node IDs separated by a space\n",
    "        node1, node2 = line.strip().split(' ')\n",
    "        G.add_edge(node1, node2)\n",
    "\n",
    "# Compute centrality measures\n",
    "degree_centrality = nx.degree_centrality(G)\n",
    "betweenness_centrality = nx.betweenness_centrality(G)\n",
    "closeness_centrality = nx.closeness_centrality(G)\n",
    "eigenvector_centrality = nx.eigenvector_centrality(G)\n",
    "\n",
    "# Print centrality measures for a few nodes\n",
    "nodes = ['0', '1', '2']  # Example nodes\n",
    "for node in nodes:\n",
    "    print(f\"Node {node}:\")\n",
    "    print(\"Degree Centrality:\", degree_centrality[node])\n",
    "    print(\"Betweenness Centrality:\", betweenness_centrality[node])\n",
    "    print(\"Closeness Centrality:\", closeness_centrality[node])\n",
    "    print(\"Eigenvector Centrality:\", eigenvector_centrality[node])\n",
    "    print()\n",
    "\n",
    "# Visualize the graph (optional)\n",
    "import matplotlib.pyplot as plt\n",
    "\n",
    "plt.figure(figsize=(10, 6))\n",
    "pos = nx.spring_layout(G, seed=42)\n",
    "nx.draw_networkx(G, pos, with_labels=False, node_size=10, node_color='blue', alpha=0.6)\n",
    "plt.title(\"Facebook Social Circles Graph\")\n",
    "plt.axis(\"off\")\n",
    "plt.show()\n"
   ]
  }
 ],
 "metadata": {
  "kernelspec": {
   "display_name": "Python 3 (ipykernel)",
   "language": "python",
   "name": "python3"
  },
  "language_info": {
   "codemirror_mode": {
    "name": "ipython",
    "version": 3
   },
   "file_extension": ".py",
   "mimetype": "text/x-python",
   "name": "python",
   "nbconvert_exporter": "python",
   "pygments_lexer": "ipython3",
   "version": "3.11.3"
  }
 },
 "nbformat": 4,
 "nbformat_minor": 2
}
